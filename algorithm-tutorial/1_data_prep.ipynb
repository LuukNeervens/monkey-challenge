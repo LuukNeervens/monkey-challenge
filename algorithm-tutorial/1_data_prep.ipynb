{
 "cells": [
  {
   "cell_type": "markdown",
   "id": "8fcb44ee-c8ee-4850-865d-c9fddf41ca93",
   "metadata": {},
   "source": "## Step 1: Data Preparation"
  },
  {
   "cell_type": "code",
   "id": "9b1df3f9-7b39-4fd9-ae4d-776c6655dc42",
   "metadata": {
    "collapsed": true,
    "jupyter": {
     "outputs_hidden": true
    },
    "tags": []
   },
   "source": [
    "# install pathology-whole-slide-data\n",
    "!pip3 install git+https://github.com/DIAGNijmegen/pathology-whole-slide-data@main"
   ],
   "outputs": [],
   "execution_count": null
  },
  {
   "cell_type": "code",
   "id": "b8f184a1-a394-4788-b192-983371eeaeed",
   "metadata": {},
   "source": [
    "import os\n",
    "from utils.dot2polygon import dot2polygon\n",
    "import glob\n",
    "import yaml"
   ],
   "outputs": [],
   "execution_count": null
  },
  {
   "metadata": {},
   "cell_type": "markdown",
   "source": "Convert the dot annotation to polygon bounding boxes",
   "id": "8484cae1c20b2f8"
  },
  {
   "metadata": {},
   "cell_type": "code",
   "outputs": [],
   "execution_count": null,
   "source": [
    "# make a folder for converted annotations\n",
    "output_root = r'./data/annotations_polygon'\n",
    "if not(os.path.isdir(output_root)): os.mkdir (output_root) "
   ],
   "id": "a990fe48ca9a3525"
  },
  {
   "cell_type": "code",
   "id": "1cb6cc97-1893-4648-bee9-f2128e214c52",
   "metadata": {
    "tags": []
   },
   "source": [
    "# convert dot annotations to polygon\n",
    "xml_path = r'./data/annotations/DI_S02_P000001_combined.xml'\n",
    "output_path = r'./data/annotations_polygon/DI_S02_P000001_combined_polygon.xml'\n",
    "lymphocyte_half_box_size = 4.5 # the size of half of the bbox around the lymphocyte dot in um\n",
    "monocytes_half_box_size = 11.0 # the size of half of the bbox around the monocytes dot in um\n",
    "min_spacing = 0.25\n",
    "dot2polygon(xml_path, lymphocyte_half_box_size, monocytes_half_box_size, min_spacing, output_path)"
   ],
   "outputs": [],
   "execution_count": null
  },
  {
   "cell_type": "markdown",
   "id": "9ae78059-87df-470b-9e1b-ba682638612d",
   "metadata": {},
   "source": "Creating the yaml config files for training"
  },
  {
   "cell_type": "code",
   "id": "a8fc5aaf-c068-4b8f-bf37-91a609a234d5",
   "metadata": {},
   "source": [
    "def folders_to_yml(wsi_dir: str, \n",
    "                   wsa_dir: str,\n",
    "                   output_dir: str,\n",
    "                   output_name: str):\n",
    "\n",
    "    \"\"\"\n",
    "    Generate a yaml file to be used as WSD dataconfig from a folder of slides and a folder of annotation or mask files.\n",
    "    Assumes files use the same name for both the slides and masks.\n",
    "    \"\"\"\n",
    "    \n",
    "    wsa_list = glob.glob(wsa_dir)\n",
    "\n",
    "    yaml_dict = {'training': []}\n",
    "    # yaml_dict = {'training': [], 'validation': []}\n",
    "    for wsa in wsa_list:\n",
    "        patient_name = os.path.basename(wsa).split(os.path.basename(wsa_dir).split('*')[1])[0] # monocytes\n",
    "    #     print(patient_name)\n",
    "        if os.path.isfile(os.path.join(wsi_dir,patient_name + \".tif\")):\n",
    "            wsi = os.path.join(wsi_dir, patient_name + \".tif\")\n",
    "            print('match found:    ' , patient_name)\n",
    "            yaml_dict['training'].append(\n",
    "                    {\"wsa\": {\"path\": str(wsa)}, \"wsi\": {\"path\": str(wsi)}})\n",
    "\n",
    "            # # validation if needed\n",
    "            # yaml_dict['validation'].append(\n",
    "            #         {\"wsa\": {\"path\": str(wsa)}, \"wsi\": {\"path\": str(wsi)}})\n",
    "\n",
    "        else:\n",
    "            print('no match found:    ' , patient_name)\n",
    "\n",
    "    # make a folder for output\n",
    "    if not(os.path.isdir(output_dir)): os.mkdir (output_dir)\n",
    "\n",
    "\n",
    "    with open(os.path.join(output_dir,output_name), \"w\") as file:\n",
    "            yaml.safe_dump(yaml_dict, file)"
   ],
   "outputs": [],
   "execution_count": null
  }
 ],
 "metadata": {
  "kernelspec": {
   "display_name": "Python 3",
   "language": "python",
   "name": "python3"
  },
  "language_info": {
   "codemirror_mode": {
    "name": "ipython",
    "version": 3
   },
   "file_extension": ".py",
   "mimetype": "text/x-python",
   "name": "python",
   "nbconvert_exporter": "python",
   "pygments_lexer": "ipython3",
   "version": "3.8.10"
  }
 },
 "nbformat": 4,
 "nbformat_minor": 5
}
