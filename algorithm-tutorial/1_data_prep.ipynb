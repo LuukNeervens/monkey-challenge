{
 "cells": [
  {
   "cell_type": "markdown",
   "id": "8fcb44ee-c8ee-4850-865d-c9fddf41ca93",
   "metadata": {},
   "source": [
    "## Step 1: Data Preparation"
   ]
  },
  {
   "cell_type": "code",
   "execution_count": 3,
   "id": "9b1df3f9-7b39-4fd9-ae4d-776c6655dc42",
   "metadata": {
    "collapsed": true,
    "jupyter": {
     "outputs_hidden": true
    },
    "tags": []
   },
   "outputs": [
    {
     "name": "stdout",
     "output_type": "stream",
     "text": [
      "Collecting git+https://github.com/DIAGNijmegen/pathology-whole-slide-data@main\n",
      "  Cloning https://github.com/DIAGNijmegen/pathology-whole-slide-data (to revision main) to c:\\users\\luukn\\appdata\\local\\temp\\pip-req-build-eadjm1xs\n",
      "  Resolved https://github.com/DIAGNijmegen/pathology-whole-slide-data to commit 1e4c6ca939c5e372a0b626739c24443f31bff505\n",
      "  Preparing metadata (setup.py): started\n",
      "  Preparing metadata (setup.py): finished with status 'done'\n",
      "Collecting concurrentbuffer>=0.0.8 (from wholeslidedata==0.1.0)\n",
      "  Downloading concurrentbuffer-0.0.8-py3-none-any.whl.metadata (8.6 kB)\n",
      "Collecting dicfg==0.0.13 (from wholeslidedata==0.1.0)\n",
      "  Downloading dicfg-0.0.13-py3-none-any.whl.metadata (4.2 kB)\n",
      "Collecting sourcelib>=0.0.4 (from wholeslidedata==0.1.0)\n",
      "  Downloading sourcelib-0.0.4-py3-none-any.whl.metadata (2.8 kB)\n",
      "Requirement already satisfied: numpy>=1.20.2 in c:\\users\\luukn\\appdata\\local\\programs\\python\\python312\\lib\\site-packages (from wholeslidedata==0.1.0) (1.26.4)\n",
      "Requirement already satisfied: opencv-python-headless>=4.4.0 in c:\\users\\luukn\\appdata\\local\\programs\\python\\python312\\lib\\site-packages (from wholeslidedata==0.1.0) (4.11.0.86)\n",
      "Requirement already satisfied: scipy>=1.5.2 in c:\\users\\luukn\\appdata\\local\\programs\\python\\python312\\lib\\site-packages (from wholeslidedata==0.1.0) (1.14.1)\n",
      "Requirement already satisfied: scikit-image>=0.17.2 in c:\\users\\luukn\\appdata\\local\\programs\\python\\python312\\lib\\site-packages (from wholeslidedata==0.1.0) (0.24.0)\n",
      "Requirement already satisfied: shapely>=1.7.1 in c:\\users\\luukn\\appdata\\local\\programs\\python\\python312\\lib\\site-packages (from wholeslidedata==0.1.0) (2.0.6)\n",
      "Requirement already satisfied: PyYAML>=5.4.1 in c:\\users\\luukn\\appdata\\local\\programs\\python\\python312\\lib\\site-packages (from wholeslidedata==0.1.0) (6.0.1)\n",
      "Collecting rtree>=1.0.0 (from wholeslidedata==0.1.0)\n",
      "  Downloading rtree-1.4.0-py3-none-win_amd64.whl.metadata (2.1 kB)\n",
      "Requirement already satisfied: lxml>=4.6.3 in c:\\users\\luukn\\appdata\\local\\programs\\python\\python312\\lib\\site-packages (from wholeslidedata==0.1.0) (5.4.0)\n",
      "Requirement already satisfied: matplotlib>=3.6.2 in c:\\users\\luukn\\appdata\\local\\programs\\python\\python312\\lib\\site-packages (from wholeslidedata==0.1.0) (3.8.0)\n",
      "Requirement already satisfied: contourpy>=1.0.1 in c:\\users\\luukn\\appdata\\local\\programs\\python\\python312\\lib\\site-packages (from matplotlib>=3.6.2->wholeslidedata==0.1.0) (1.3.2)\n",
      "Requirement already satisfied: cycler>=0.10 in c:\\users\\luukn\\appdata\\local\\programs\\python\\python312\\lib\\site-packages (from matplotlib>=3.6.2->wholeslidedata==0.1.0) (0.12.0)\n",
      "Requirement already satisfied: fonttools>=4.22.0 in c:\\users\\luukn\\appdata\\local\\programs\\python\\python312\\lib\\site-packages (from matplotlib>=3.6.2->wholeslidedata==0.1.0) (4.43.1)\n",
      "Requirement already satisfied: kiwisolver>=1.0.1 in c:\\users\\luukn\\appdata\\local\\programs\\python\\python312\\lib\\site-packages (from matplotlib>=3.6.2->wholeslidedata==0.1.0) (1.4.5)\n",
      "Requirement already satisfied: packaging>=20.0 in c:\\users\\luukn\\appdata\\local\\programs\\python\\python312\\lib\\site-packages (from matplotlib>=3.6.2->wholeslidedata==0.1.0) (24.2)\n",
      "Requirement already satisfied: pillow>=6.2.0 in c:\\users\\luukn\\appdata\\local\\programs\\python\\python312\\lib\\site-packages (from matplotlib>=3.6.2->wholeslidedata==0.1.0) (11.0.0)\n",
      "Requirement already satisfied: pyparsing>=2.3.1 in c:\\users\\luukn\\appdata\\local\\programs\\python\\python312\\lib\\site-packages (from matplotlib>=3.6.2->wholeslidedata==0.1.0) (3.1.1)\n",
      "Requirement already satisfied: python-dateutil>=2.7 in c:\\users\\luukn\\appdata\\local\\programs\\python\\python312\\lib\\site-packages (from matplotlib>=3.6.2->wholeslidedata==0.1.0) (2.8.2)\n",
      "Requirement already satisfied: six>=1.5 in c:\\users\\luukn\\appdata\\local\\programs\\python\\python312\\lib\\site-packages (from python-dateutil>=2.7->matplotlib>=3.6.2->wholeslidedata==0.1.0) (1.16.0)\n",
      "Requirement already satisfied: networkx>=2.8 in c:\\users\\luukn\\appdata\\local\\programs\\python\\python312\\lib\\site-packages (from scikit-image>=0.17.2->wholeslidedata==0.1.0) (3.3)\n",
      "Requirement already satisfied: imageio>=2.33 in c:\\users\\luukn\\appdata\\local\\programs\\python\\python312\\lib\\site-packages (from scikit-image>=0.17.2->wholeslidedata==0.1.0) (2.37.0)\n",
      "Requirement already satisfied: tifffile>=2022.8.12 in c:\\users\\luukn\\appdata\\local\\programs\\python\\python312\\lib\\site-packages (from scikit-image>=0.17.2->wholeslidedata==0.1.0) (2024.9.20)\n",
      "Requirement already satisfied: lazy-loader>=0.4 in c:\\users\\luukn\\appdata\\local\\programs\\python\\python312\\lib\\site-packages (from scikit-image>=0.17.2->wholeslidedata==0.1.0) (0.4)\n",
      "Downloading dicfg-0.0.13-py3-none-any.whl (9.0 kB)\n",
      "Downloading concurrentbuffer-0.0.8-py3-none-any.whl (14 kB)\n",
      "Downloading rtree-1.4.0-py3-none-win_amd64.whl (385 kB)\n",
      "Downloading sourcelib-0.0.4-py3-none-any.whl (7.6 kB)\n",
      "Building wheels for collected packages: wholeslidedata\n",
      "  Building wheel for wholeslidedata (setup.py): started\n",
      "  Building wheel for wholeslidedata (setup.py): finished with status 'done'\n",
      "  Created wheel for wholeslidedata: filename=wholeslidedata-0.1.0-py3-none-any.whl size=73203 sha256=759666999921ea24ad8267a3d05e6d5f955ce35d1af1a75739e8a05b3aa411dc\n",
      "  Stored in directory: C:\\Users\\luukn\\AppData\\Local\\Temp\\pip-ephem-wheel-cache-r2qzk6h2\\wheels\\34\\3a\\83\\6d4167be019e68b1b698457c6d25f2d6e25796f29ecd1e68d2\n",
      "Successfully built wholeslidedata\n",
      "Installing collected packages: sourcelib, rtree, dicfg, concurrentbuffer, wholeslidedata\n",
      "\n",
      "   -------- ------------------------------- 1/5 [rtree]\n",
      "   ---------------- ----------------------- 2/5 [dicfg]\n",
      "   ------------------------ --------------- 3/5 [concurrentbuffer]\n",
      "   -------------------------------- ------- 4/5 [wholeslidedata]\n",
      "   -------------------------------- ------- 4/5 [wholeslidedata]\n",
      "   -------------------------------- ------- 4/5 [wholeslidedata]\n",
      "   ---------------------------------------- 5/5 [wholeslidedata]\n",
      "\n",
      "Successfully installed concurrentbuffer-0.0.8 dicfg-0.0.13 rtree-1.4.0 sourcelib-0.0.4 wholeslidedata-0.1.0\n"
     ]
    },
    {
     "name": "stderr",
     "output_type": "stream",
     "text": [
      "  Running command git clone --filter=blob:none --quiet https://github.com/DIAGNijmegen/pathology-whole-slide-data 'C:\\Users\\luukn\\AppData\\Local\\Temp\\pip-req-build-eadjm1xs'\n",
      "  DEPRECATION: Building 'wholeslidedata' using the legacy setup.py bdist_wheel mechanism, which will be removed in a future version. pip 25.3 will enforce this behaviour change. A possible replacement is to use the standardized build interface by setting the `--use-pep517` option, (possibly combined with `--no-build-isolation`), or adding a `pyproject.toml` file to the source tree of 'wholeslidedata'. Discussion can be found at https://github.com/pypa/pip/issues/6334\n"
     ]
    }
   ],
   "source": [
    "# install pathology-whole-slide-data\n",
    "!pip3 install git+https://github.com/DIAGNijmegen/pathology-whole-slide-data@main"
   ]
  },
  {
   "cell_type": "code",
   "execution_count": 2,
   "id": "b8f184a1-a394-4788-b192-983371eeaeed",
   "metadata": {},
   "outputs": [],
   "source": [
    "import os\n",
    "from utils.dot2polygon import dot2polygon\n",
    "import glob\n",
    "import yaml"
   ]
  },
  {
   "cell_type": "code",
   "execution_count": 5,
   "id": "e47b3da1-7cfb-4b64-a44f-dda0c7924b7f",
   "metadata": {},
   "outputs": [],
   "source": [
    "# make a folder for converted annotations\n",
    "output_root = r'C:/Users/luukn/AIMI_MONKEY2/monkey-training/annotations_polygon'\n",
    "if not(os.path.isdir(output_root)): os.mkdir (output_root) "
   ]
  },
  {
   "cell_type": "markdown",
   "id": "e5c6d2ad7babaf6b",
   "metadata": {},
   "source": [
    "Convert the dot annotation to polygon bounding boxes"
   ]
  },
  {
   "cell_type": "code",
   "execution_count": 18,
   "id": "1cb6cc97-1893-4648-bee9-f2128e214c52",
   "metadata": {
    "tags": []
   },
   "outputs": [],
   "source": [
    "# convert dot annotations to polygon, single image\n",
    "xml_path = 'C:/Users/luukn/AIMI_MONKEY2/monkey-training/annotations/xml/A_P000001.xml'\n",
    "output_path = 'C:/Users/luukn/AIMI_MONKEY2/monkey-training/annotations_polygon/xml/A_P000001.xml'\n",
    "lymphocyte_half_box_size = 4.5 # the size of half of the bbox around the lymphocyte dot in um\n",
    "monocytes_half_box_size = 11.0 # the size of half of the bbox around the monocytes dot in um\n",
    "min_spacing = 0.25\n",
    "dot2polygon(xml_path, lymphocyte_half_box_size, monocytes_half_box_size, min_spacing, output_path)"
   ]
  },
  {
   "cell_type": "code",
   "execution_count": 19,
   "id": "4ab2cd84-a475-4433-94b6-c1d259e1af07",
   "metadata": {},
   "outputs": [],
   "source": [
    "# convert dot annotations to polygon, in a folder\n",
    "\n",
    "annotation_dir = r'./data/annotations'\n",
    "annotation_polygon_dir = r'./data/annotations_polygon'\n",
    "annotation_list = glob.glob(os.path.join(annotation_dir,'*.xml'))\n",
    "for xml_path in annotation_list:\n",
    "    print(xml_path)\n",
    "    output_path = os.path.join(annotation_polygon_dir,os.path.splitext(os.path.basename(xml_path))[0] + '_polygon' + os.path.splitext(os.path.basename(xml_path))[1])\n",
    "    print(output_path)\n",
    "    lymphocyte_half_box_size = 4.5 # the size of half of the bbox around the lymphocyte dot in um\n",
    "    monocytes_half_box_size = 11.0 # the size of half of the bbox around the monocytes dot in um\n",
    "    min_spacing = 0.25\n",
    "    dot2polygon(xml_path, lymphocyte_half_box_size, monocytes_half_box_size, min_spacing, output_path)"
   ]
  },
  {
   "cell_type": "markdown",
   "id": "9ae78059-87df-470b-9e1b-ba682638612d",
   "metadata": {},
   "source": [
    "Creating the yaml config files for training."
   ]
  },
  {
   "cell_type": "code",
   "execution_count": 20,
   "id": "a8fc5aaf-c068-4b8f-bf37-91a609a234d5",
   "metadata": {},
   "outputs": [],
   "source": [
    "def folders_to_yml(wsi_dir: str, \n",
    "                   wsa_dir: str,\n",
    "                   output_dir: str,\n",
    "                   output_name: str):\n",
    "\n",
    "    \"\"\"\n",
    "    Generate a yaml file to be used as WSD dataconfig from a folder of slides and a folder of annotation or mask files.\n",
    "    Assumes files use the same name for both the slides and masks.\n",
    "    \"\"\"\n",
    "    \n",
    "    wsa_list = glob.glob(wsa_dir)\n",
    "\n",
    "    yaml_dict = {'training': []}\n",
    "    # yaml_dict = {'training': [], 'validation': []}\n",
    "    for wsa in wsa_list:\n",
    "        patient_name = os.path.basename(wsa).split(os.path.basename(wsa_dir).split('*')[1])[0] # monocytes\n",
    "    #     print(patient_name)\n",
    "        if os.path.isfile(os.path.join(wsi_dir,patient_name + \"_PAS_CPG.tif\")):\n",
    "            wsi = os.path.join(wsi_dir, patient_name + \"_PAS_CPG.tif\")\n",
    "            print('match found:    ' , patient_name)\n",
    "            yaml_dict['training'].append(\n",
    "                    {\"wsa\": {\"path\": str(wsa)}, \"wsi\": {\"path\": str(wsi)}})\n",
    "\n",
    "            # # validation if needed\n",
    "            # yaml_dict['validation'].append(\n",
    "            #         {\"wsa\": {\"path\": str(wsa)}, \"wsi\": {\"path\": str(wsi)}})\n",
    "\n",
    "        else:\n",
    "            print('no match found:    ' , patient_name)\n",
    "\n",
    "    # make a folder for output\n",
    "    if not(os.path.isdir(output_dir)): os.mkdir (output_dir)\n",
    "\n",
    "\n",
    "    with open(os.path.join(output_dir,output_name), \"w\") as file:\n",
    "            yaml.safe_dump(yaml_dict, file)"
   ]
  },
  {
   "cell_type": "code",
   "execution_count": 21,
   "id": "45e85653-a4b7-4977-a143-b15bad959828",
   "metadata": {},
   "outputs": [],
   "source": [
    "wsi_dir = r'./data/images'\n",
    "wsa_dir = r'./data/annotations_polygon/*_polygon.xml'\n",
    "output_dir = r'./configs'\n",
    "output_name = 'training_sample.yml'\n",
    "\n",
    "folders_to_yml(wsi_dir, \n",
    "               wsa_dir,\n",
    "               output_dir,\n",
    "               output_name)"
   ]
  },
  {
   "cell_type": "code",
   "execution_count": null,
   "id": "d6293657-c3e7-4813-88b0-70c77233b604",
   "metadata": {},
   "outputs": [],
   "source": []
  }
 ],
 "metadata": {
  "kernelspec": {
   "display_name": "Python 3",
   "language": "python",
   "name": "python3"
  },
  "language_info": {
   "codemirror_mode": {
    "name": "ipython",
    "version": 3
   },
   "file_extension": ".py",
   "mimetype": "text/x-python",
   "name": "python",
   "nbconvert_exporter": "python",
   "pygments_lexer": "ipython3",
   "version": "3.12.0"
  }
 },
 "nbformat": 4,
 "nbformat_minor": 5
}
